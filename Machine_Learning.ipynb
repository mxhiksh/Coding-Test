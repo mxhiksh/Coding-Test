{
  "nbformat": 4,
  "nbformat_minor": 0,
  "metadata": {
    "colab": {
      "provenance": []
    },
    "kernelspec": {
      "name": "python3",
      "display_name": "Python 3"
    },
    "language_info": {
      "name": "python"
    }
  },
  "cells": [
    {
      "cell_type": "code",
      "execution_count": null,
      "metadata": {
        "id": "SA3HuFd3QbO9"
      },
      "outputs": [],
      "source": [
        "import numpy as np\n",
        "import pandas as pd"
      ]
    },
    {
      "cell_type": "code",
      "source": [],
      "metadata": {
        "id": "atHbTtipuLlD"
      },
      "execution_count": null,
      "outputs": []
    },
    {
      "cell_type": "code",
      "source": [
        "from sklearn.model_selection import train_test_split\n",
        "from sklearn.preprocessing import StandardScaler\n",
        "\n",
        "from sklearn.linear_model import LogisticRegression\n",
        "from sklearn.svm import SVC\n",
        "from sklearn.tree import DecisionTreeClassifier\n",
        "from sklearn.ensemble import RandomForestClassifier\n",
        "\n",
        "from sklearn.metrics import accuracy_score, precision_score\n",
        "from sklearn.metrics import recall_score, f1_score"
      ],
      "metadata": {
        "id": "3WdpupTfQiPM"
      },
      "execution_count": null,
      "outputs": []
    },
    {
      "cell_type": "code",
      "source": [
        "%ls"
      ],
      "metadata": {
        "colab": {
          "base_uri": "https://localhost:8080/"
        },
        "id": "_cCBUjKtnrbx",
        "outputId": "4550a4e5-bb93-490c-cc34-99ff64fee5bc"
      },
      "execution_count": null,
      "outputs": [
        {
          "output_type": "stream",
          "name": "stdout",
          "text": [
            "kepler_data.csv  \u001b[0m\u001b[01;34msample_data\u001b[0m/\n"
          ]
        }
      ]
    },
    {
      "cell_type": "code",
      "source": [
        "kepler = pd.read_csv('kepler_data.csv')\n",
        "kepler.head()"
      ],
      "metadata": {
        "colab": {
          "base_uri": "https://localhost:8080/",
          "height": 255
        },
        "id": "G6JGGHw9oLbT",
        "outputId": "8484ea71-2a31-4db5-b4d5-145fa0264ed7"
      },
      "execution_count": null,
      "outputs": [
        {
          "output_type": "execute_result",
          "data": {
            "text/plain": [
              "      kepid kepoi_name   kepler_name koi_disposition koi_pdisposition  \\\n",
              "0  10797460  K00752.01  Kepler-227 b       CONFIRMED        CANDIDATE   \n",
              "1  10797460  K00752.02  Kepler-227 c       CONFIRMED        CANDIDATE   \n",
              "2  10811496  K00753.01           NaN       CANDIDATE        CANDIDATE   \n",
              "3  10848459  K00754.01           NaN  FALSE POSITIVE   FALSE POSITIVE   \n",
              "4  10854555  K00755.01  Kepler-664 b       CONFIRMED        CANDIDATE   \n",
              "\n",
              "   koi_score  koi_fpflag_nt  koi_fpflag_ss  koi_fpflag_co  koi_fpflag_ec  ...  \\\n",
              "0      1.000              0              0              0              0  ...   \n",
              "1      0.969              0              0              0              0  ...   \n",
              "2      0.000              0              0              0              0  ...   \n",
              "3      0.000              0              1              0              0  ...   \n",
              "4      1.000              0              0              0              0  ...   \n",
              "\n",
              "   koi_steff_err2  koi_slogg  koi_slogg_err1  koi_slogg_err2  koi_srad  \\\n",
              "0           -81.0      4.467           0.064          -0.096     0.927   \n",
              "1           -81.0      4.467           0.064          -0.096     0.927   \n",
              "2          -176.0      4.544           0.044          -0.176     0.868   \n",
              "3          -174.0      4.564           0.053          -0.168     0.791   \n",
              "4          -211.0      4.438           0.070          -0.210     1.046   \n",
              "\n",
              "   koi_srad_err1  koi_srad_err2         ra        dec  koi_kepmag  \n",
              "0          0.105         -0.061  291.93423  48.141651      15.347  \n",
              "1          0.105         -0.061  291.93423  48.141651      15.347  \n",
              "2          0.233         -0.078  297.00482  48.134129      15.436  \n",
              "3          0.201         -0.067  285.53461  48.285210      15.597  \n",
              "4          0.334         -0.133  288.75488  48.226200      15.509  \n",
              "\n",
              "[5 rows x 49 columns]"
            ],
            "text/html": [
              "\n",
              "  <div id=\"df-1ae548fc-bfa7-467d-bb94-d4186582e0e9\" class=\"colab-df-container\">\n",
              "    <div>\n",
              "<style scoped>\n",
              "    .dataframe tbody tr th:only-of-type {\n",
              "        vertical-align: middle;\n",
              "    }\n",
              "\n",
              "    .dataframe tbody tr th {\n",
              "        vertical-align: top;\n",
              "    }\n",
              "\n",
              "    .dataframe thead th {\n",
              "        text-align: right;\n",
              "    }\n",
              "</style>\n",
              "<table border=\"1\" class=\"dataframe\">\n",
              "  <thead>\n",
              "    <tr style=\"text-align: right;\">\n",
              "      <th></th>\n",
              "      <th>kepid</th>\n",
              "      <th>kepoi_name</th>\n",
              "      <th>kepler_name</th>\n",
              "      <th>koi_disposition</th>\n",
              "      <th>koi_pdisposition</th>\n",
              "      <th>koi_score</th>\n",
              "      <th>koi_fpflag_nt</th>\n",
              "      <th>koi_fpflag_ss</th>\n",
              "      <th>koi_fpflag_co</th>\n",
              "      <th>koi_fpflag_ec</th>\n",
              "      <th>...</th>\n",
              "      <th>koi_steff_err2</th>\n",
              "      <th>koi_slogg</th>\n",
              "      <th>koi_slogg_err1</th>\n",
              "      <th>koi_slogg_err2</th>\n",
              "      <th>koi_srad</th>\n",
              "      <th>koi_srad_err1</th>\n",
              "      <th>koi_srad_err2</th>\n",
              "      <th>ra</th>\n",
              "      <th>dec</th>\n",
              "      <th>koi_kepmag</th>\n",
              "    </tr>\n",
              "  </thead>\n",
              "  <tbody>\n",
              "    <tr>\n",
              "      <th>0</th>\n",
              "      <td>10797460</td>\n",
              "      <td>K00752.01</td>\n",
              "      <td>Kepler-227 b</td>\n",
              "      <td>CONFIRMED</td>\n",
              "      <td>CANDIDATE</td>\n",
              "      <td>1.000</td>\n",
              "      <td>0</td>\n",
              "      <td>0</td>\n",
              "      <td>0</td>\n",
              "      <td>0</td>\n",
              "      <td>...</td>\n",
              "      <td>-81.0</td>\n",
              "      <td>4.467</td>\n",
              "      <td>0.064</td>\n",
              "      <td>-0.096</td>\n",
              "      <td>0.927</td>\n",
              "      <td>0.105</td>\n",
              "      <td>-0.061</td>\n",
              "      <td>291.93423</td>\n",
              "      <td>48.141651</td>\n",
              "      <td>15.347</td>\n",
              "    </tr>\n",
              "    <tr>\n",
              "      <th>1</th>\n",
              "      <td>10797460</td>\n",
              "      <td>K00752.02</td>\n",
              "      <td>Kepler-227 c</td>\n",
              "      <td>CONFIRMED</td>\n",
              "      <td>CANDIDATE</td>\n",
              "      <td>0.969</td>\n",
              "      <td>0</td>\n",
              "      <td>0</td>\n",
              "      <td>0</td>\n",
              "      <td>0</td>\n",
              "      <td>...</td>\n",
              "      <td>-81.0</td>\n",
              "      <td>4.467</td>\n",
              "      <td>0.064</td>\n",
              "      <td>-0.096</td>\n",
              "      <td>0.927</td>\n",
              "      <td>0.105</td>\n",
              "      <td>-0.061</td>\n",
              "      <td>291.93423</td>\n",
              "      <td>48.141651</td>\n",
              "      <td>15.347</td>\n",
              "    </tr>\n",
              "    <tr>\n",
              "      <th>2</th>\n",
              "      <td>10811496</td>\n",
              "      <td>K00753.01</td>\n",
              "      <td>NaN</td>\n",
              "      <td>CANDIDATE</td>\n",
              "      <td>CANDIDATE</td>\n",
              "      <td>0.000</td>\n",
              "      <td>0</td>\n",
              "      <td>0</td>\n",
              "      <td>0</td>\n",
              "      <td>0</td>\n",
              "      <td>...</td>\n",
              "      <td>-176.0</td>\n",
              "      <td>4.544</td>\n",
              "      <td>0.044</td>\n",
              "      <td>-0.176</td>\n",
              "      <td>0.868</td>\n",
              "      <td>0.233</td>\n",
              "      <td>-0.078</td>\n",
              "      <td>297.00482</td>\n",
              "      <td>48.134129</td>\n",
              "      <td>15.436</td>\n",
              "    </tr>\n",
              "    <tr>\n",
              "      <th>3</th>\n",
              "      <td>10848459</td>\n",
              "      <td>K00754.01</td>\n",
              "      <td>NaN</td>\n",
              "      <td>FALSE POSITIVE</td>\n",
              "      <td>FALSE POSITIVE</td>\n",
              "      <td>0.000</td>\n",
              "      <td>0</td>\n",
              "      <td>1</td>\n",
              "      <td>0</td>\n",
              "      <td>0</td>\n",
              "      <td>...</td>\n",
              "      <td>-174.0</td>\n",
              "      <td>4.564</td>\n",
              "      <td>0.053</td>\n",
              "      <td>-0.168</td>\n",
              "      <td>0.791</td>\n",
              "      <td>0.201</td>\n",
              "      <td>-0.067</td>\n",
              "      <td>285.53461</td>\n",
              "      <td>48.285210</td>\n",
              "      <td>15.597</td>\n",
              "    </tr>\n",
              "    <tr>\n",
              "      <th>4</th>\n",
              "      <td>10854555</td>\n",
              "      <td>K00755.01</td>\n",
              "      <td>Kepler-664 b</td>\n",
              "      <td>CONFIRMED</td>\n",
              "      <td>CANDIDATE</td>\n",
              "      <td>1.000</td>\n",
              "      <td>0</td>\n",
              "      <td>0</td>\n",
              "      <td>0</td>\n",
              "      <td>0</td>\n",
              "      <td>...</td>\n",
              "      <td>-211.0</td>\n",
              "      <td>4.438</td>\n",
              "      <td>0.070</td>\n",
              "      <td>-0.210</td>\n",
              "      <td>1.046</td>\n",
              "      <td>0.334</td>\n",
              "      <td>-0.133</td>\n",
              "      <td>288.75488</td>\n",
              "      <td>48.226200</td>\n",
              "      <td>15.509</td>\n",
              "    </tr>\n",
              "  </tbody>\n",
              "</table>\n",
              "<p>5 rows × 49 columns</p>\n",
              "</div>\n",
              "    <div class=\"colab-df-buttons\">\n",
              "\n",
              "  <div class=\"colab-df-container\">\n",
              "    <button class=\"colab-df-convert\" onclick=\"convertToInteractive('df-1ae548fc-bfa7-467d-bb94-d4186582e0e9')\"\n",
              "            title=\"Convert this dataframe to an interactive table.\"\n",
              "            style=\"display:none;\">\n",
              "\n",
              "  <svg xmlns=\"http://www.w3.org/2000/svg\" height=\"24px\" viewBox=\"0 -960 960 960\">\n",
              "    <path d=\"M120-120v-720h720v720H120Zm60-500h600v-160H180v160Zm220 220h160v-160H400v160Zm0 220h160v-160H400v160ZM180-400h160v-160H180v160Zm440 0h160v-160H620v160ZM180-180h160v-160H180v160Zm440 0h160v-160H620v160Z\"/>\n",
              "  </svg>\n",
              "    </button>\n",
              "\n",
              "  <style>\n",
              "    .colab-df-container {\n",
              "      display:flex;\n",
              "      gap: 12px;\n",
              "    }\n",
              "\n",
              "    .colab-df-convert {\n",
              "      background-color: #E8F0FE;\n",
              "      border: none;\n",
              "      border-radius: 50%;\n",
              "      cursor: pointer;\n",
              "      display: none;\n",
              "      fill: #1967D2;\n",
              "      height: 32px;\n",
              "      padding: 0 0 0 0;\n",
              "      width: 32px;\n",
              "    }\n",
              "\n",
              "    .colab-df-convert:hover {\n",
              "      background-color: #E2EBFA;\n",
              "      box-shadow: 0px 1px 2px rgba(60, 64, 67, 0.3), 0px 1px 3px 1px rgba(60, 64, 67, 0.15);\n",
              "      fill: #174EA6;\n",
              "    }\n",
              "\n",
              "    .colab-df-buttons div {\n",
              "      margin-bottom: 4px;\n",
              "    }\n",
              "\n",
              "    [theme=dark] .colab-df-convert {\n",
              "      background-color: #3B4455;\n",
              "      fill: #D2E3FC;\n",
              "    }\n",
              "\n",
              "    [theme=dark] .colab-df-convert:hover {\n",
              "      background-color: #434B5C;\n",
              "      box-shadow: 0px 1px 3px 1px rgba(0, 0, 0, 0.15);\n",
              "      filter: drop-shadow(0px 1px 2px rgba(0, 0, 0, 0.3));\n",
              "      fill: #FFFFFF;\n",
              "    }\n",
              "  </style>\n",
              "\n",
              "    <script>\n",
              "      const buttonEl =\n",
              "        document.querySelector('#df-1ae548fc-bfa7-467d-bb94-d4186582e0e9 button.colab-df-convert');\n",
              "      buttonEl.style.display =\n",
              "        google.colab.kernel.accessAllowed ? 'block' : 'none';\n",
              "\n",
              "      async function convertToInteractive(key) {\n",
              "        const element = document.querySelector('#df-1ae548fc-bfa7-467d-bb94-d4186582e0e9');\n",
              "        const dataTable =\n",
              "          await google.colab.kernel.invokeFunction('convertToInteractive',\n",
              "                                                    [key], {});\n",
              "        if (!dataTable) return;\n",
              "\n",
              "        const docLinkHtml = 'Like what you see? Visit the ' +\n",
              "          '<a target=\"_blank\" href=https://colab.research.google.com/notebooks/data_table.ipynb>data table notebook</a>'\n",
              "          + ' to learn more about interactive tables.';\n",
              "        element.innerHTML = '';\n",
              "        dataTable['output_type'] = 'display_data';\n",
              "        await google.colab.output.renderOutput(dataTable, element);\n",
              "        const docLink = document.createElement('div');\n",
              "        docLink.innerHTML = docLinkHtml;\n",
              "        element.appendChild(docLink);\n",
              "      }\n",
              "    </script>\n",
              "  </div>\n",
              "\n",
              "\n",
              "<div id=\"df-a06af84c-e388-4742-a0d5-46bf77f7f40c\">\n",
              "  <button class=\"colab-df-quickchart\" onclick=\"quickchart('df-a06af84c-e388-4742-a0d5-46bf77f7f40c')\"\n",
              "            title=\"Suggest charts\"\n",
              "            style=\"display:none;\">\n",
              "\n",
              "<svg xmlns=\"http://www.w3.org/2000/svg\" height=\"24px\"viewBox=\"0 0 24 24\"\n",
              "     width=\"24px\">\n",
              "    <g>\n",
              "        <path d=\"M19 3H5c-1.1 0-2 .9-2 2v14c0 1.1.9 2 2 2h14c1.1 0 2-.9 2-2V5c0-1.1-.9-2-2-2zM9 17H7v-7h2v7zm4 0h-2V7h2v10zm4 0h-2v-4h2v4z\"/>\n",
              "    </g>\n",
              "</svg>\n",
              "  </button>\n",
              "\n",
              "<style>\n",
              "  .colab-df-quickchart {\n",
              "      --bg-color: #E8F0FE;\n",
              "      --fill-color: #1967D2;\n",
              "      --hover-bg-color: #E2EBFA;\n",
              "      --hover-fill-color: #174EA6;\n",
              "      --disabled-fill-color: #AAA;\n",
              "      --disabled-bg-color: #DDD;\n",
              "  }\n",
              "\n",
              "  [theme=dark] .colab-df-quickchart {\n",
              "      --bg-color: #3B4455;\n",
              "      --fill-color: #D2E3FC;\n",
              "      --hover-bg-color: #434B5C;\n",
              "      --hover-fill-color: #FFFFFF;\n",
              "      --disabled-bg-color: #3B4455;\n",
              "      --disabled-fill-color: #666;\n",
              "  }\n",
              "\n",
              "  .colab-df-quickchart {\n",
              "    background-color: var(--bg-color);\n",
              "    border: none;\n",
              "    border-radius: 50%;\n",
              "    cursor: pointer;\n",
              "    display: none;\n",
              "    fill: var(--fill-color);\n",
              "    height: 32px;\n",
              "    padding: 0;\n",
              "    width: 32px;\n",
              "  }\n",
              "\n",
              "  .colab-df-quickchart:hover {\n",
              "    background-color: var(--hover-bg-color);\n",
              "    box-shadow: 0 1px 2px rgba(60, 64, 67, 0.3), 0 1px 3px 1px rgba(60, 64, 67, 0.15);\n",
              "    fill: var(--button-hover-fill-color);\n",
              "  }\n",
              "\n",
              "  .colab-df-quickchart-complete:disabled,\n",
              "  .colab-df-quickchart-complete:disabled:hover {\n",
              "    background-color: var(--disabled-bg-color);\n",
              "    fill: var(--disabled-fill-color);\n",
              "    box-shadow: none;\n",
              "  }\n",
              "\n",
              "  .colab-df-spinner {\n",
              "    border: 2px solid var(--fill-color);\n",
              "    border-color: transparent;\n",
              "    border-bottom-color: var(--fill-color);\n",
              "    animation:\n",
              "      spin 1s steps(1) infinite;\n",
              "  }\n",
              "\n",
              "  @keyframes spin {\n",
              "    0% {\n",
              "      border-color: transparent;\n",
              "      border-bottom-color: var(--fill-color);\n",
              "      border-left-color: var(--fill-color);\n",
              "    }\n",
              "    20% {\n",
              "      border-color: transparent;\n",
              "      border-left-color: var(--fill-color);\n",
              "      border-top-color: var(--fill-color);\n",
              "    }\n",
              "    30% {\n",
              "      border-color: transparent;\n",
              "      border-left-color: var(--fill-color);\n",
              "      border-top-color: var(--fill-color);\n",
              "      border-right-color: var(--fill-color);\n",
              "    }\n",
              "    40% {\n",
              "      border-color: transparent;\n",
              "      border-right-color: var(--fill-color);\n",
              "      border-top-color: var(--fill-color);\n",
              "    }\n",
              "    60% {\n",
              "      border-color: transparent;\n",
              "      border-right-color: var(--fill-color);\n",
              "    }\n",
              "    80% {\n",
              "      border-color: transparent;\n",
              "      border-right-color: var(--fill-color);\n",
              "      border-bottom-color: var(--fill-color);\n",
              "    }\n",
              "    90% {\n",
              "      border-color: transparent;\n",
              "      border-bottom-color: var(--fill-color);\n",
              "    }\n",
              "  }\n",
              "</style>\n",
              "\n",
              "  <script>\n",
              "    async function quickchart(key) {\n",
              "      const quickchartButtonEl =\n",
              "        document.querySelector('#' + key + ' button');\n",
              "      quickchartButtonEl.disabled = true;  // To prevent multiple clicks.\n",
              "      quickchartButtonEl.classList.add('colab-df-spinner');\n",
              "      try {\n",
              "        const charts = await google.colab.kernel.invokeFunction(\n",
              "            'suggestCharts', [key], {});\n",
              "      } catch (error) {\n",
              "        console.error('Error during call to suggestCharts:', error);\n",
              "      }\n",
              "      quickchartButtonEl.classList.remove('colab-df-spinner');\n",
              "      quickchartButtonEl.classList.add('colab-df-quickchart-complete');\n",
              "    }\n",
              "    (() => {\n",
              "      let quickchartButtonEl =\n",
              "        document.querySelector('#df-a06af84c-e388-4742-a0d5-46bf77f7f40c button');\n",
              "      quickchartButtonEl.style.display =\n",
              "        google.colab.kernel.accessAllowed ? 'block' : 'none';\n",
              "    })();\n",
              "  </script>\n",
              "</div>\n",
              "\n",
              "    </div>\n",
              "  </div>\n"
            ]
          },
          "metadata": {},
          "execution_count": 24
        }
      ]
    },
    {
      "cell_type": "code",
      "source": [
        "kepler = kepler.drop(['kepid', 'kepoi_name', 'kepler_name',\n",
        "                     'koi_pdisposition', 'koi_score', 'koi_tce_delivname',\n",
        "                     'koi_teq_err1', 'koi_teq_err2'], axis=1)"
      ],
      "metadata": {
        "id": "dIk1nixdRJ34"
      },
      "execution_count": null,
      "outputs": []
    },
    {
      "cell_type": "code",
      "source": [
        "for column in kepler.columns[kepler.isna().sum() > 0]:\n",
        "    kepler[column] = kepler[column].fillna(kepler[column].mean())"
      ],
      "metadata": {
        "id": "i0zCputaRy_2"
      },
      "execution_count": null,
      "outputs": []
    },
    {
      "cell_type": "code",
      "source": [
        "kepler_data = kepler[kepler.koi_disposition != 'CANDIDATE']"
      ],
      "metadata": {
        "id": "5l-ztKAfR2wR"
      },
      "execution_count": null,
      "outputs": []
    },
    {
      "cell_type": "code",
      "source": [
        "def numeric(value):\n",
        "    if value == 'CONFIRMED':\n",
        "        return 1\n",
        "    else:\n",
        "        return 0\n",
        "\n",
        "kepler_data[\"koi_disposition\"] = kepler_data.koi_disposition.map(numeric)"
      ],
      "metadata": {
        "id": "Bw14wQuUSEYb",
        "colab": {
          "base_uri": "https://localhost:8080/"
        },
        "outputId": "cc2f4c59-b0e1-411b-c019-c5f0c9c2c216"
      },
      "execution_count": null,
      "outputs": [
        {
          "output_type": "stream",
          "name": "stderr",
          "text": [
            "<ipython-input-28-5ecce8dae348>:7: SettingWithCopyWarning: \n",
            "A value is trying to be set on a copy of a slice from a DataFrame.\n",
            "Try using .loc[row_indexer,col_indexer] = value instead\n",
            "\n",
            "See the caveats in the documentation: https://pandas.pydata.org/pandas-docs/stable/user_guide/indexing.html#returning-a-view-versus-a-copy\n",
            "  kepler_data[\"koi_disposition\"] = kepler_data.koi_disposition.map(numeric)\n"
          ]
        }
      ]
    },
    {
      "cell_type": "code",
      "source": [
        "kepler_data.koi_disposition.value_counts()"
      ],
      "metadata": {
        "id": "_gBD1DhLSGg3",
        "colab": {
          "base_uri": "https://localhost:8080/"
        },
        "outputId": "743da017-044f-47a0-854a-562c30f582e6"
      },
      "execution_count": null,
      "outputs": [
        {
          "output_type": "execute_result",
          "data": {
            "text/plain": [
              "0    4840\n",
              "1    2358\n",
              "Name: koi_disposition, dtype: int64"
            ]
          },
          "metadata": {},
          "execution_count": 29
        }
      ]
    },
    {
      "cell_type": "code",
      "source": [
        "X = kepler_data.drop('koi_disposition', axis=1)\n",
        "y = kepler_data['koi_disposition']"
      ],
      "metadata": {
        "id": "1TSuiMzuSJom"
      },
      "execution_count": null,
      "outputs": []
    },
    {
      "cell_type": "code",
      "source": [
        "scaler = StandardScaler()\n",
        "X = scaler.fit_transform(X)"
      ],
      "metadata": {
        "id": "BzoycNXCSKkJ"
      },
      "execution_count": null,
      "outputs": []
    },
    {
      "cell_type": "code",
      "source": [
        "X_train, X_test, y_train, y_test = train_test_split(X, y,\n",
        "                                train_size=0.8, test_size=0.2, random_state=0)"
      ],
      "metadata": {
        "id": "oVfn3DiJSM68"
      },
      "execution_count": null,
      "outputs": []
    },
    {
      "cell_type": "code",
      "source": [
        "models = {\n",
        "\"Logistic Regression\": LogisticRegression()\n",
        "}"
      ],
      "metadata": {
        "id": "Y99ndG5RSUOs"
      },
      "execution_count": null,
      "outputs": []
    },
    {
      "cell_type": "code",
      "source": [
        "for name, model in models.items():\n",
        "    model.fit(X_train,y_train)\n",
        "    y_pred = model.predict(X_test)\n",
        "    print(name)\n",
        "    print(\"Accuracy: {}.\".format(accuracy_score(y_test,y_pred)))\n",
        "    print(\"Precision: {}.\".format(precision_score(y_test,y_pred)))\n",
        "    print(\"Recall: {}\".format(recall_score(y_test,y_pred)))\n",
        "    print(\"F1_Score: {}\".format(f1_score(y_test,y_pred)))\n",
        "    print()"
      ],
      "metadata": {
        "id": "TN90N11BSWxJ",
        "colab": {
          "base_uri": "https://localhost:8080/"
        },
        "outputId": "288fc2b2-1c26-4c42-9d29-64c01aa36aad"
      },
      "execution_count": null,
      "outputs": [
        {
          "output_type": "stream",
          "name": "stdout",
          "text": [
            "Logistic Regression\n",
            "Accuracy: 0.9861111111111112.\n",
            "Precision: 0.984304932735426.\n",
            "Recall: 0.9712389380530974\n",
            "F1_Score: 0.977728285077951\n",
            "\n"
          ]
        }
      ]
    },
    {
      "cell_type": "code",
      "source": [],
      "metadata": {
        "id": "wsYN1dzBo3yE"
      },
      "execution_count": null,
      "outputs": []
    }
  ]
}